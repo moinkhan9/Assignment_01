{
 "cells": [
  {
   "cell_type": "code",
   "execution_count": 1,
   "id": "d9151766-80a7-4f31-98b6-cf897498437b",
   "metadata": {},
   "outputs": [],
   "source": [
    "# Q.1 Who developed python programming language ?\n",
    "# Ans : Python is created by Guido Van Rossum."
   ]
  },
  {
   "cell_type": "code",
   "execution_count": 2,
   "id": "1891fe9a-3e99-4e80-975b-e5f110109a6a",
   "metadata": {},
   "outputs": [],
   "source": [
    "# Q.2 Which type of programming does python support ?\n",
    "# Ans : Python supports object-oriented programming, structured programming and functional programming."
   ]
  },
  {
   "cell_type": "code",
   "execution_count": 3,
   "id": "c88e1059-7f10-443a-bf6e-35323928624b",
   "metadata": {},
   "outputs": [],
   "source": [
    "# Q.3 Is python case sensitive when dealing with identifiers ?\n",
    "# Ans : Yes, Case is always significant while dealing with identifiers in python."
   ]
  },
  {
   "cell_type": "code",
   "execution_count": 4,
   "id": "08b5e274-0914-4206-bc9b-42fa6028ec63",
   "metadata": {},
   "outputs": [],
   "source": [
    "# Q.4 What is the correct extension of the python file ?\n",
    "# Ans : .py is correct extension of the python file."
   ]
  },
  {
   "cell_type": "code",
   "execution_count": 5,
   "id": "761339ac-a23e-4037-b54d-b0ac9f219e12",
   "metadata": {},
   "outputs": [],
   "source": [
    "# Q.5 : Is python code compiled or interpreted ?\n",
    "# Ans : Both, python is interpreted as well as compiled language."
   ]
  },
  {
   "cell_type": "code",
   "execution_count": 6,
   "id": "212f2d26-d007-424a-9c1d-48b11dfa8dcb",
   "metadata": {},
   "outputs": [],
   "source": [
    "# Q.6 : Name a few blocks of code used to define in python language ?\n",
    "# Ans : In python, To define blocks we use indentation."
   ]
  },
  {
   "cell_type": "code",
   "execution_count": 7,
   "id": "7d16ee7a-ff63-45e2-a063-e99bd5b3019d",
   "metadata": {},
   "outputs": [],
   "source": [
    "# Q.7 : State a character used to give single-line comments in python?\n",
    "# Ans : # used to give single-line comment in python."
   ]
  },
  {
   "cell_type": "code",
   "execution_count": 8,
   "id": "db2a823f-d74b-41e6-a0c1-011a3b205374",
   "metadata": {},
   "outputs": [],
   "source": [
    "# Q.8 : Mention functions which can help us to find the version of python that we are currently working on ?\n",
    "# Ans : import sys\n",
    "#       sys.version"
   ]
  },
  {
   "cell_type": "code",
   "execution_count": 9,
   "id": "9b481cf0-8720-4546-87e2-196b89587851",
   "metadata": {},
   "outputs": [],
   "source": [
    "# Q.9 : Python supports the creation of anonymous functions at runtime, using a construct called________\n",
    "# Ans : Lambda"
   ]
  },
  {
   "cell_type": "code",
   "execution_count": 10,
   "id": "187bb6a5-0191-4461-9ec6-e1e9f1c2292c",
   "metadata": {},
   "outputs": [],
   "source": [
    "# Q.10 : What does pip stand for python ?\n",
    "# Ans : Preferred installer program."
   ]
  },
  {
   "cell_type": "code",
   "execution_count": 11,
   "id": "c3ed8107-d898-4527-87c3-d1a2c8d7cfe3",
   "metadata": {},
   "outputs": [],
   "source": [
    "# Q.11 : Mention a few built-in functions in python ?\n",
    "# Ans : dict(), print(), pow(), complex() and float()"
   ]
  },
  {
   "cell_type": "code",
   "execution_count": 12,
   "id": "2c56d96e-2fb9-4152-a289-4415df75c9d2",
   "metadata": {},
   "outputs": [],
   "source": [
    "# Q.12 : What is the maximum possible length of an identifier in python ?\n",
    "# Ans : Python identifiers are unlimited in length. There is no restriction."
   ]
  },
  {
   "cell_type": "code",
   "execution_count": 13,
   "id": "e53d9ce7-db5d-46cb-87c0-5de282401f0a",
   "metadata": {},
   "outputs": [],
   "source": [
    "# Q.13 : What are the benefits of using python ?\n",
    "# Ans : Data science\n",
    "#       Scientific and mathematical computing\n",
    "#       Web development\n",
    "#       Data Analytics\n",
    "#       System automation\n",
    "#       Computer graphics\n",
    "#       Basic game development"
   ]
  },
  {
   "cell_type": "code",
   "execution_count": 14,
   "id": "323e0c89-dfb9-4faa-9446-7dd2116d91c8",
   "metadata": {},
   "outputs": [],
   "source": [
    "# Q.14 : How is memory managed in python ?\n",
    "# Ans : Memory management in Python involves a private heap containing all Python objects and data structures."
   ]
  },
  {
   "cell_type": "code",
   "execution_count": 15,
   "id": "782148cc-b174-47c3-8ff0-196133d9f939",
   "metadata": {},
   "outputs": [],
   "source": [
    "# Q.15 : How to install python on windows and set path varibles ?\n",
    "# Ans : Install Python on Windows.\n",
    "\n",
    "        # 1. Go to the official Python download page for Windows and download Python's latest version.\n",
    "        # 2. Double-click on the .exe file, to run the Python installer.\n",
    "        # 3. Select the Install launcher for all users checkbox, which enables all users of the computer to access the Python launcher application.\n",
    "        # 4. Select the Add python.exe to PATH checkbox, which enables users to launch Python from the command line.\n",
    "        # 5. Click Install Now and then Advanced option will appear select location if install python different location.\n",
    "        # 6. Click Install to start the installation.\n",
    "        # 7. After the installation is complete, a Setup was successful message displays.\n",
    "        \n",
    "        ## Set path variable\n",
    "\n",
    "        # 1. Right-clicking This PC and going to Properties.\n",
    "        # 2. Clicking on the Advanced system settings in the menu on the left.\n",
    "        # 3. Clicking on the Environment Variables button on the bottom right.\n",
    "        # 4. In the System variables section, selecting the Path variable and clicking on Edit. The next screen will show all the directories that are currently a part of the PATH variable.\n",
    "        # 5. Clicking on New and entering Python’s install directory."
   ]
  },
  {
   "cell_type": "code",
   "execution_count": 16,
   "id": "5f243a05-82fd-47f6-9869-03eccf8240c0",
   "metadata": {},
   "outputs": [],
   "source": [
    "# Q.16 : Is indentation required in python ?\n",
    "# Ans : Yes, Indentation is required in python."
   ]
  }
 ],
 "metadata": {
  "kernelspec": {
   "display_name": "Python 3 (ipykernel)",
   "language": "python",
   "name": "python3"
  },
  "language_info": {
   "codemirror_mode": {
    "name": "ipython",
    "version": 3
   },
   "file_extension": ".py",
   "mimetype": "text/x-python",
   "name": "python",
   "nbconvert_exporter": "python",
   "pygments_lexer": "ipython3",
   "version": "3.10.8"
  }
 },
 "nbformat": 4,
 "nbformat_minor": 5
}
